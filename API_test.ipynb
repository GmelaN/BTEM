{
 "cells": [
  {
   "cell_type": "code",
   "execution_count": 2,
   "metadata": {},
   "outputs": [],
   "source": [
    "from jwt import JWT, jwk\n",
    "import hashlib\n",
    "import os\n",
    "import requests\n",
    "import uuid\n",
    "from urllib.parse import urlencode, unquote\n",
    "\n",
    "import json"
   ]
  },
  {
   "attachments": {},
   "cell_type": "markdown",
   "metadata": {},
   "source": [
    "# UPBIT"
   ]
  },
  {
   "attachments": {},
   "cell_type": "markdown",
   "metadata": {},
   "source": [
    "## 초기 설정"
   ]
  },
  {
   "cell_type": "code",
   "execution_count": 9,
   "metadata": {},
   "outputs": [],
   "source": [
    "access_key, secret_key = \"\", \"\"\n",
    "server_url = \"https://api.upbit.com\"\n",
    "\n",
    "keys = json.load(open(\"./keys.json\"))\n",
    "access_key = keys[\"access\"]\n",
    "secret_key = keys[\"secret\"].encode(\"utf-8\")\n",
    "\n",
    "jwk_secret = jwk.OctetJWK(key=secret_key)\n",
    "\n",
    "del keys"
   ]
  },
  {
   "attachments": {},
   "cell_type": "markdown",
   "metadata": {},
   "source": [
    "## 전체 계좌 정보 불러오기"
   ]
  },
  {
   "cell_type": "code",
   "execution_count": 11,
   "metadata": {},
   "outputs": [
    {
     "data": {
      "text/plain": [
       "[{'currency': 'KRW',\n",
       "  'balance': '5000',\n",
       "  'locked': '0',\n",
       "  'avg_buy_price': '0',\n",
       "  'avg_buy_price_modified': True,\n",
       "  'unit_currency': 'KRW'}]"
      ]
     },
     "execution_count": 11,
     "metadata": {},
     "output_type": "execute_result"
    }
   ],
   "source": [
    "payload = {\n",
    "    'access_key': access_key,\n",
    "    'nonce': str(uuid.uuid4()),\n",
    "}\n",
    "\n",
    "jwt_instance = JWT()\n",
    "jwt_token = jwt_instance.encode(payload, key=jwk_secret)\n",
    "\n",
    "authorization = 'Bearer {}'.format(jwt_token)\n",
    "headers = {\n",
    "  'Authorization': authorization,\n",
    "}\n",
    "\n",
    "res = requests.get(server_url + '/v1/accounts', headers=headers)\n",
    "res.json()"
   ]
  },
  {
   "attachments": {},
   "cell_type": "markdown",
   "metadata": {},
   "source": [
    "## 주문 가능 정보 조회"
   ]
  },
  {
   "cell_type": "code",
   "execution_count": null,
   "metadata": {},
   "outputs": [],
   "source": [
    "params = {\n",
    "  'market': 'KRW-BTC'\n",
    "}\n",
    "\n",
    "query_string = unquote(urlencode(params, doseq=True)).encode(\"utf-8\")\n",
    "\n",
    "m = hashlib.sha512()\n",
    "m.update(query_string)\n",
    "query_hash = m.hexdigest()\n",
    "\n",
    "payload = {\n",
    "    'access_key': access_key,\n",
    "    'nonce': str(uuid.uuid4()),\n",
    "    'query_hash': query_hash,\n",
    "    'query_hash_alg': 'SHA512',\n",
    "}\n",
    "\n",
    "jwt_token = jwt_instance.encode(payload, jwk_secret)\n",
    "authorization = 'Bearer {}'.format(jwt_token)\n",
    "headers = {\n",
    "  'Authorization': authorization,\n",
    "}\n",
    "\n",
    "res = requests.get(server_url + '/v1/orders/chance', params=params, headers=headers)\n",
    "res.json()"
   ]
  },
  {
   "attachments": {},
   "cell_type": "markdown",
   "metadata": {},
   "source": [
    "## 주문하기\n",
    "[API docs](https://docs.upbit.com/reference/%EC%A3%BC%EB%AC%B8%ED%95%98%EA%B8%B0)"
   ]
  },
  {
   "cell_type": "code",
   "execution_count": null,
   "metadata": {},
   "outputs": [],
   "source": [
    "params = {\n",
    "  'market': 'KRW-BTC', # 마켓 ID\n",
    "  'side': 'bid',       # 주문 종류: [\"bid\": 매수, \"ask\": 매도]\n",
    "  'ord_type': 'limit', # 주문 타입: [\"limit\": 지정가 주문, \"price\": 시장가 매수, \"market\": 시장가 매도]\n",
    "  'price': '100.0',    # 주문 가격: KRW-BTC 마켓에서 1000 -> 1BTC당 매도 1호가가 500 KRW인 경우 2BTC가 매수됨.\n",
    "  'volume': '0.01',    # 주문량\n",
    "}\n",
    "\n",
    "query_string = unquote(urlencode(params, doseq=True)).encode(\"utf-8\")\n",
    "\n",
    "m = hashlib.sha512()\n",
    "m.update(query_string)\n",
    "query_hash = m.hexdigest()\n",
    "\n",
    "payload = {\n",
    "    'access_key': access_key,\n",
    "    'nonce': str(uuid.uuid4()),\n",
    "    'query_hash': query_hash,\n",
    "    'query_hash_alg': 'SHA512',\n",
    "}\n",
    "\n",
    "jwt_token = jwt.encode(payload, secret_key)\n",
    "authorization = 'Bearer {}'.format(jwt_token)\n",
    "headers = {\n",
    "  'Authorization': authorization,\n",
    "}\n",
    "\n",
    "# res = requests.post(server_url + '/v1/orders', json=params, headers=headers)\n",
    "res.json()\n",
    "\n",
    "'''\n",
    "200:\n",
    "  uuid: 주문 고유 ID\n",
    "  side: 주문 종류\n",
    "  ord_type: 주문 방식\n",
    "  price: 주문 당시 화폐 가격\n",
    "  state: 주문 상태\n",
    "  market: 마켓의 유일키\n",
    "  created_at: 주문 생성 시간\n",
    "  volume: 입력된 주문량\n",
    "  remaining_volume: 체결 후 남은 주문 양\n",
    "  reserved_fee: 수수료로 예약된 비용\n",
    "  remaining_fee: 남은 수수료\n",
    "  paid_fee: 지불된 수수료\n",
    "  locked: 거래에 할당된 비용\n",
    "  executed_volume: 체결량\n",
    "  trades_count: 해당 주문에 걸린 체결 수\n",
    "\n",
    "4XX:\n",
    "  error:\n",
    "    error_name: 오류 이름\n",
    "    message: 오류 메시지\n",
    "'''"
   ]
  },
  {
   "attachments": {},
   "cell_type": "markdown",
   "metadata": {},
   "source": [
    "## 마켓 코드 조회"
   ]
  },
  {
   "cell_type": "code",
   "execution_count": 3,
   "metadata": {},
   "outputs": [],
   "source": [
    "url = \"https://api.upbit.com/v1/market/all?isDetails=false\"\n",
    "headers = {\"accept\": \"application/json\"}\n",
    "\n",
    "response = requests.get(url, headers=headers)\n",
    "\n",
    "resp = response.json()"
   ]
  },
  {
   "cell_type": "code",
   "execution_count": 6,
   "metadata": {},
   "outputs": [
    {
     "name": "stdout",
     "output_type": "stream",
     "text": [
      "!\n"
     ]
    }
   ],
   "source": [
    "for res in resp:\n",
    "    if \"market\" in res and res[\"market\"] == \"KRW-BTC\":\n",
    "        print(\"!\")"
   ]
  },
  {
   "cell_type": "code",
   "execution_count": 7,
   "metadata": {},
   "outputs": [],
   "source": [
    "url = \"https://api.upbit.com/v1/candles/minutes/1?market=KRW-BTC&count=1\"\n",
    "response = requests.get(url, headers=headers)\n",
    "\n",
    "resp = response.json()"
   ]
  },
  {
   "cell_type": "code",
   "execution_count": 8,
   "metadata": {},
   "outputs": [
    {
     "data": {
      "text/plain": [
       "[{'market': 'KRW-BTC',\n",
       "  'candle_date_time_utc': '2023-06-21T07:40:00',\n",
       "  'candle_date_time_kst': '2023-06-21T16:40:00',\n",
       "  'opening_price': 37901000.0,\n",
       "  'high_price': 37910000.0,\n",
       "  'low_price': 37900000.0,\n",
       "  'trade_price': 37910000.0,\n",
       "  'timestamp': 1687333253201,\n",
       "  'candle_acc_trade_price': 75455250.48063,\n",
       "  'candle_acc_trade_volume': 1.99068173,\n",
       "  'unit': 1}]"
      ]
     },
     "execution_count": 8,
     "metadata": {},
     "output_type": "execute_result"
    }
   ],
   "source": [
    "resp"
   ]
  },
  {
   "cell_type": "code",
   "execution_count": null,
   "metadata": {},
   "outputs": [],
   "source": []
  },
  {
   "attachments": {},
   "cell_type": "markdown",
   "metadata": {},
   "source": [
    "## 시세 불러오기"
   ]
  },
  {
   "cell_type": "code",
   "execution_count": null,
   "metadata": {},
   "outputs": [],
   "source": [
    "from requests import Request, Session\n",
    "from requests.exceptions import ConnectionError, Timeout, TooManyRedirects\n",
    "import json\n",
    "\n",
    "url = 'https://sandbox-api.coinmarketcap.com/v1/cryptocurrency/listings/latest'\n",
    "\n",
    "keys = json.load(open(\"./keys.json\"))\n",
    "cmc_key = keys[\"coin_market_cap_key\"]\n",
    "\n",
    "parameters = {\n",
    "  'start':'1',\n",
    "  'limit':'5000',\n",
    "  'convert':'USD'\n",
    "}\n",
    "headers = {\n",
    "  'Accepts': 'application/json',\n",
    "  'X-CMC_PRO_API_KEY': cmc_key,\n",
    "}\n",
    "\n",
    "session = Session()\n",
    "session.headers.update(headers)\n",
    "\n",
    "try:\n",
    "  response = session.get(url, params=parameters)\n",
    "  data = json.loads(response.text)\n",
    "  print(data)\n",
    "except (ConnectionError, Timeout, TooManyRedirects) as e:\n",
    "  print(e)"
   ]
  },
  {
   "attachments": {},
   "cell_type": "markdown",
   "metadata": {},
   "source": [
    "## BINANCE"
   ]
  },
  {
   "attachments": {},
   "cell_type": "markdown",
   "metadata": {},
   "source": [
    "### 데이터 가져오기"
   ]
  },
  {
   "cell_type": "code",
   "execution_count": null,
   "metadata": {},
   "outputs": [],
   "source": []
  },
  {
   "attachments": {},
   "cell_type": "markdown",
   "metadata": {},
   "source": []
  }
 ],
 "metadata": {
  "kernelspec": {
   "display_name": "Python 3",
   "language": "python",
   "name": "python3"
  },
  "language_info": {
   "codemirror_mode": {
    "name": "ipython",
    "version": 3
   },
   "file_extension": ".py",
   "mimetype": "text/x-python",
   "name": "python",
   "nbconvert_exporter": "python",
   "pygments_lexer": "ipython3",
   "version": "3.11.2"
  },
  "orig_nbformat": 4
 },
 "nbformat": 4,
 "nbformat_minor": 2
}
